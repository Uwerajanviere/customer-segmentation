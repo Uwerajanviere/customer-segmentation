{
 "cells": [
  {
   "cell_type": "code",
   "execution_count": 34,
   "id": "710480b5-84e7-4996-857b-8ae064299af6",
   "metadata": {},
   "outputs": [],
   "source": [
    "import pandas as pd"
   ]
  },
  {
   "cell_type": "code",
   "execution_count": 35,
   "id": "b736abdf-26b1-4ccb-8bbf-d3caef98b4ca",
   "metadata": {},
   "outputs": [],
   "source": [
    "df = pd.read_csv(\"Online Retail.csv\", encoding=\"latin1\")\n"
   ]
  },
  {
   "cell_type": "code",
   "execution_count": 36,
   "id": "001e9bbe-36fa-4299-b8c2-675a62113467",
   "metadata": {},
   "outputs": [
    {
     "data": {
      "text/plain": [
       "(541909, 8)"
      ]
     },
     "execution_count": 36,
     "metadata": {},
     "output_type": "execute_result"
    }
   ],
   "source": [
    "df.shape\n"
   ]
  },
  {
   "cell_type": "code",
   "execution_count": 41,
   "id": "2f5b61c2-984b-4380-81a2-d3e1a8f7f9c6",
   "metadata": {},
   "outputs": [
    {
     "data": {
      "text/html": [
       "<div>\n",
       "<style scoped>\n",
       "    .dataframe tbody tr th:only-of-type {\n",
       "        vertical-align: middle;\n",
       "    }\n",
       "\n",
       "    .dataframe tbody tr th {\n",
       "        vertical-align: top;\n",
       "    }\n",
       "\n",
       "    .dataframe thead th {\n",
       "        text-align: right;\n",
       "    }\n",
       "</style>\n",
       "<table border=\"1\" class=\"dataframe\">\n",
       "  <thead>\n",
       "    <tr style=\"text-align: right;\">\n",
       "      <th></th>\n",
       "      <th>InvoiceNo</th>\n",
       "      <th>StockCode</th>\n",
       "      <th>Description</th>\n",
       "      <th>Quantity</th>\n",
       "      <th>InvoiceDate</th>\n",
       "      <th>UnitPrice</th>\n",
       "      <th>CustomerID</th>\n",
       "      <th>Country</th>\n",
       "    </tr>\n",
       "  </thead>\n",
       "  <tbody>\n",
       "    <tr>\n",
       "      <th>0</th>\n",
       "      <td>536365</td>\n",
       "      <td>85123A</td>\n",
       "      <td>WHITE HANGING HEART T-LIGHT HOLDER</td>\n",
       "      <td>6</td>\n",
       "      <td>12/1/2010 8:26</td>\n",
       "      <td>2.55</td>\n",
       "      <td>17850.0</td>\n",
       "      <td>United Kingdom</td>\n",
       "    </tr>\n",
       "    <tr>\n",
       "      <th>1</th>\n",
       "      <td>536365</td>\n",
       "      <td>71053</td>\n",
       "      <td>WHITE METAL LANTERN</td>\n",
       "      <td>6</td>\n",
       "      <td>12/1/2010 8:26</td>\n",
       "      <td>3.39</td>\n",
       "      <td>17850.0</td>\n",
       "      <td>United Kingdom</td>\n",
       "    </tr>\n",
       "    <tr>\n",
       "      <th>2</th>\n",
       "      <td>536365</td>\n",
       "      <td>84406B</td>\n",
       "      <td>CREAM CUPID HEARTS COAT HANGER</td>\n",
       "      <td>8</td>\n",
       "      <td>12/1/2010 8:26</td>\n",
       "      <td>2.75</td>\n",
       "      <td>17850.0</td>\n",
       "      <td>United Kingdom</td>\n",
       "    </tr>\n",
       "    <tr>\n",
       "      <th>3</th>\n",
       "      <td>536365</td>\n",
       "      <td>84029G</td>\n",
       "      <td>KNITTED UNION FLAG HOT WATER BOTTLE</td>\n",
       "      <td>6</td>\n",
       "      <td>12/1/2010 8:26</td>\n",
       "      <td>3.39</td>\n",
       "      <td>17850.0</td>\n",
       "      <td>United Kingdom</td>\n",
       "    </tr>\n",
       "    <tr>\n",
       "      <th>4</th>\n",
       "      <td>536365</td>\n",
       "      <td>84029E</td>\n",
       "      <td>RED WOOLLY HOTTIE WHITE HEART.</td>\n",
       "      <td>6</td>\n",
       "      <td>12/1/2010 8:26</td>\n",
       "      <td>3.39</td>\n",
       "      <td>17850.0</td>\n",
       "      <td>United Kingdom</td>\n",
       "    </tr>\n",
       "  </tbody>\n",
       "</table>\n",
       "</div>"
      ],
      "text/plain": [
       "  InvoiceNo StockCode                          Description  Quantity  \\\n",
       "0    536365    85123A   WHITE HANGING HEART T-LIGHT HOLDER         6   \n",
       "1    536365     71053                  WHITE METAL LANTERN         6   \n",
       "2    536365    84406B       CREAM CUPID HEARTS COAT HANGER         8   \n",
       "3    536365    84029G  KNITTED UNION FLAG HOT WATER BOTTLE         6   \n",
       "4    536365    84029E       RED WOOLLY HOTTIE WHITE HEART.         6   \n",
       "\n",
       "      InvoiceDate  UnitPrice  CustomerID         Country  \n",
       "0  12/1/2010 8:26       2.55     17850.0  United Kingdom  \n",
       "1  12/1/2010 8:26       3.39     17850.0  United Kingdom  \n",
       "2  12/1/2010 8:26       2.75     17850.0  United Kingdom  \n",
       "3  12/1/2010 8:26       3.39     17850.0  United Kingdom  \n",
       "4  12/1/2010 8:26       3.39     17850.0  United Kingdom  "
      ]
     },
     "execution_count": 41,
     "metadata": {},
     "output_type": "execute_result"
    }
   ],
   "source": [
    "df.head()"
   ]
  },
  {
   "cell_type": "code",
   "execution_count": 42,
   "id": "64a1e984-f69b-472a-acbb-6ec982ba9d60",
   "metadata": {},
   "outputs": [],
   "source": [
    "df = df.dropna(subset=[\"CustomerID\"])"
   ]
  },
  {
   "cell_type": "code",
   "execution_count": 43,
   "id": "95107065-ac24-4ad8-afca-99c2eb01aaf2",
   "metadata": {},
   "outputs": [],
   "source": [
    "df = df[~df[\"InvoiceNo\"].astype(str).str.startswith(\"C\")]\n"
   ]
  },
  {
   "cell_type": "code",
   "execution_count": 44,
   "id": "18696093-a892-4d6d-9365-1e3bca40efaa",
   "metadata": {},
   "outputs": [],
   "source": [
    "df[\"TotalPrice\"] = df[\"Quantity\"] * df[\"UnitPrice\"]\n"
   ]
  },
  {
   "cell_type": "code",
   "execution_count": 45,
   "id": "325efa15-5840-4849-9e00-b29271bd768b",
   "metadata": {},
   "outputs": [
    {
     "data": {
      "text/html": [
       "<div>\n",
       "<style scoped>\n",
       "    .dataframe tbody tr th:only-of-type {\n",
       "        vertical-align: middle;\n",
       "    }\n",
       "\n",
       "    .dataframe tbody tr th {\n",
       "        vertical-align: top;\n",
       "    }\n",
       "\n",
       "    .dataframe thead th {\n",
       "        text-align: right;\n",
       "    }\n",
       "</style>\n",
       "<table border=\"1\" class=\"dataframe\">\n",
       "  <thead>\n",
       "    <tr style=\"text-align: right;\">\n",
       "      <th></th>\n",
       "      <th>InvoiceNo</th>\n",
       "      <th>StockCode</th>\n",
       "      <th>Description</th>\n",
       "      <th>Quantity</th>\n",
       "      <th>InvoiceDate</th>\n",
       "      <th>UnitPrice</th>\n",
       "      <th>CustomerID</th>\n",
       "      <th>Country</th>\n",
       "      <th>TotalPrice</th>\n",
       "    </tr>\n",
       "  </thead>\n",
       "  <tbody>\n",
       "    <tr>\n",
       "      <th>0</th>\n",
       "      <td>536365</td>\n",
       "      <td>85123A</td>\n",
       "      <td>WHITE HANGING HEART T-LIGHT HOLDER</td>\n",
       "      <td>6</td>\n",
       "      <td>12/1/2010 8:26</td>\n",
       "      <td>2.55</td>\n",
       "      <td>17850.0</td>\n",
       "      <td>United Kingdom</td>\n",
       "      <td>15.30</td>\n",
       "    </tr>\n",
       "    <tr>\n",
       "      <th>1</th>\n",
       "      <td>536365</td>\n",
       "      <td>71053</td>\n",
       "      <td>WHITE METAL LANTERN</td>\n",
       "      <td>6</td>\n",
       "      <td>12/1/2010 8:26</td>\n",
       "      <td>3.39</td>\n",
       "      <td>17850.0</td>\n",
       "      <td>United Kingdom</td>\n",
       "      <td>20.34</td>\n",
       "    </tr>\n",
       "    <tr>\n",
       "      <th>2</th>\n",
       "      <td>536365</td>\n",
       "      <td>84406B</td>\n",
       "      <td>CREAM CUPID HEARTS COAT HANGER</td>\n",
       "      <td>8</td>\n",
       "      <td>12/1/2010 8:26</td>\n",
       "      <td>2.75</td>\n",
       "      <td>17850.0</td>\n",
       "      <td>United Kingdom</td>\n",
       "      <td>22.00</td>\n",
       "    </tr>\n",
       "    <tr>\n",
       "      <th>3</th>\n",
       "      <td>536365</td>\n",
       "      <td>84029G</td>\n",
       "      <td>KNITTED UNION FLAG HOT WATER BOTTLE</td>\n",
       "      <td>6</td>\n",
       "      <td>12/1/2010 8:26</td>\n",
       "      <td>3.39</td>\n",
       "      <td>17850.0</td>\n",
       "      <td>United Kingdom</td>\n",
       "      <td>20.34</td>\n",
       "    </tr>\n",
       "    <tr>\n",
       "      <th>4</th>\n",
       "      <td>536365</td>\n",
       "      <td>84029E</td>\n",
       "      <td>RED WOOLLY HOTTIE WHITE HEART.</td>\n",
       "      <td>6</td>\n",
       "      <td>12/1/2010 8:26</td>\n",
       "      <td>3.39</td>\n",
       "      <td>17850.0</td>\n",
       "      <td>United Kingdom</td>\n",
       "      <td>20.34</td>\n",
       "    </tr>\n",
       "  </tbody>\n",
       "</table>\n",
       "</div>"
      ],
      "text/plain": [
       "  InvoiceNo StockCode                          Description  Quantity  \\\n",
       "0    536365    85123A   WHITE HANGING HEART T-LIGHT HOLDER         6   \n",
       "1    536365     71053                  WHITE METAL LANTERN         6   \n",
       "2    536365    84406B       CREAM CUPID HEARTS COAT HANGER         8   \n",
       "3    536365    84029G  KNITTED UNION FLAG HOT WATER BOTTLE         6   \n",
       "4    536365    84029E       RED WOOLLY HOTTIE WHITE HEART.         6   \n",
       "\n",
       "      InvoiceDate  UnitPrice  CustomerID         Country  TotalPrice  \n",
       "0  12/1/2010 8:26       2.55     17850.0  United Kingdom       15.30  \n",
       "1  12/1/2010 8:26       3.39     17850.0  United Kingdom       20.34  \n",
       "2  12/1/2010 8:26       2.75     17850.0  United Kingdom       22.00  \n",
       "3  12/1/2010 8:26       3.39     17850.0  United Kingdom       20.34  \n",
       "4  12/1/2010 8:26       3.39     17850.0  United Kingdom       20.34  "
      ]
     },
     "execution_count": 45,
     "metadata": {},
     "output_type": "execute_result"
    }
   ],
   "source": [
    "df.head()"
   ]
  },
  {
   "cell_type": "code",
   "execution_count": 46,
   "id": "274c7a0c-ba0e-4df4-8586-471c275141e3",
   "metadata": {},
   "outputs": [],
   "source": [
    "import datetime as dt\n"
   ]
  },
  {
   "cell_type": "code",
   "execution_count": 47,
   "id": "7f67d385-bc7d-4981-aff4-bd5e93dbd0f3",
   "metadata": {},
   "outputs": [],
   "source": [
    "df = df.dropna(subset=[\"Description\"])\n"
   ]
  },
  {
   "cell_type": "code",
   "execution_count": 48,
   "id": "95ab2af5-a02a-4f46-b330-267dcdc3c84d",
   "metadata": {},
   "outputs": [],
   "source": [
    "df = df[df[\"Quantity\"] > 0]\n"
   ]
  },
  {
   "cell_type": "code",
   "execution_count": 49,
   "id": "adeadd70-9abc-4dc0-ab26-31fe2d7dd379",
   "metadata": {},
   "outputs": [],
   "source": [
    "df[\"InvoiceDate\"] = pd.to_datetime(df[\"InvoiceDate\"])\n"
   ]
  },
  {
   "cell_type": "code",
   "execution_count": 50,
   "id": "ebb73008-b45a-4184-97ad-28f1f7ce387b",
   "metadata": {},
   "outputs": [],
   "source": [
    "df = df[df[\"UnitPrice\"] > 0]\n"
   ]
  },
  {
   "cell_type": "code",
   "execution_count": 54,
   "id": "bf54332e-5fe1-4718-b89e-4d34d6148631",
   "metadata": {},
   "outputs": [],
   "source": [
    "df = df.dropna(subset=[\"CustomerID\"])\n",
    "df[\"CustomerID\"] = df[\"CustomerID\"].astype(int)  \n"
   ]
  },
  {
   "cell_type": "code",
   "execution_count": 55,
   "id": "f77dd410-1566-4f86-8142-adb421b971e7",
   "metadata": {},
   "outputs": [
    {
     "data": {
      "text/html": [
       "<div>\n",
       "<style scoped>\n",
       "    .dataframe tbody tr th:only-of-type {\n",
       "        vertical-align: middle;\n",
       "    }\n",
       "\n",
       "    .dataframe tbody tr th {\n",
       "        vertical-align: top;\n",
       "    }\n",
       "\n",
       "    .dataframe thead th {\n",
       "        text-align: right;\n",
       "    }\n",
       "</style>\n",
       "<table border=\"1\" class=\"dataframe\">\n",
       "  <thead>\n",
       "    <tr style=\"text-align: right;\">\n",
       "      <th></th>\n",
       "      <th>InvoiceNo</th>\n",
       "      <th>StockCode</th>\n",
       "      <th>Description</th>\n",
       "      <th>Quantity</th>\n",
       "      <th>InvoiceDate</th>\n",
       "      <th>UnitPrice</th>\n",
       "      <th>CustomerID</th>\n",
       "      <th>Country</th>\n",
       "      <th>TotalPrice</th>\n",
       "    </tr>\n",
       "  </thead>\n",
       "  <tbody>\n",
       "    <tr>\n",
       "      <th>0</th>\n",
       "      <td>536365</td>\n",
       "      <td>85123A</td>\n",
       "      <td>WHITE HANGING HEART T-LIGHT HOLDER</td>\n",
       "      <td>6</td>\n",
       "      <td>2010-12-01 08:26:00</td>\n",
       "      <td>2.55</td>\n",
       "      <td>17850</td>\n",
       "      <td>United Kingdom</td>\n",
       "      <td>15.30</td>\n",
       "    </tr>\n",
       "    <tr>\n",
       "      <th>1</th>\n",
       "      <td>536365</td>\n",
       "      <td>71053</td>\n",
       "      <td>WHITE METAL LANTERN</td>\n",
       "      <td>6</td>\n",
       "      <td>2010-12-01 08:26:00</td>\n",
       "      <td>3.39</td>\n",
       "      <td>17850</td>\n",
       "      <td>United Kingdom</td>\n",
       "      <td>20.34</td>\n",
       "    </tr>\n",
       "    <tr>\n",
       "      <th>2</th>\n",
       "      <td>536365</td>\n",
       "      <td>84406B</td>\n",
       "      <td>CREAM CUPID HEARTS COAT HANGER</td>\n",
       "      <td>8</td>\n",
       "      <td>2010-12-01 08:26:00</td>\n",
       "      <td>2.75</td>\n",
       "      <td>17850</td>\n",
       "      <td>United Kingdom</td>\n",
       "      <td>22.00</td>\n",
       "    </tr>\n",
       "    <tr>\n",
       "      <th>3</th>\n",
       "      <td>536365</td>\n",
       "      <td>84029G</td>\n",
       "      <td>KNITTED UNION FLAG HOT WATER BOTTLE</td>\n",
       "      <td>6</td>\n",
       "      <td>2010-12-01 08:26:00</td>\n",
       "      <td>3.39</td>\n",
       "      <td>17850</td>\n",
       "      <td>United Kingdom</td>\n",
       "      <td>20.34</td>\n",
       "    </tr>\n",
       "    <tr>\n",
       "      <th>4</th>\n",
       "      <td>536365</td>\n",
       "      <td>84029E</td>\n",
       "      <td>RED WOOLLY HOTTIE WHITE HEART.</td>\n",
       "      <td>6</td>\n",
       "      <td>2010-12-01 08:26:00</td>\n",
       "      <td>3.39</td>\n",
       "      <td>17850</td>\n",
       "      <td>United Kingdom</td>\n",
       "      <td>20.34</td>\n",
       "    </tr>\n",
       "  </tbody>\n",
       "</table>\n",
       "</div>"
      ],
      "text/plain": [
       "  InvoiceNo StockCode                          Description  Quantity  \\\n",
       "0    536365    85123A   WHITE HANGING HEART T-LIGHT HOLDER         6   \n",
       "1    536365     71053                  WHITE METAL LANTERN         6   \n",
       "2    536365    84406B       CREAM CUPID HEARTS COAT HANGER         8   \n",
       "3    536365    84029G  KNITTED UNION FLAG HOT WATER BOTTLE         6   \n",
       "4    536365    84029E       RED WOOLLY HOTTIE WHITE HEART.         6   \n",
       "\n",
       "          InvoiceDate  UnitPrice  CustomerID         Country  TotalPrice  \n",
       "0 2010-12-01 08:26:00       2.55       17850  United Kingdom       15.30  \n",
       "1 2010-12-01 08:26:00       3.39       17850  United Kingdom       20.34  \n",
       "2 2010-12-01 08:26:00       2.75       17850  United Kingdom       22.00  \n",
       "3 2010-12-01 08:26:00       3.39       17850  United Kingdom       20.34  \n",
       "4 2010-12-01 08:26:00       3.39       17850  United Kingdom       20.34  "
      ]
     },
     "execution_count": 55,
     "metadata": {},
     "output_type": "execute_result"
    }
   ],
   "source": [
    "df.head()"
   ]
  },
  {
   "cell_type": "code",
   "execution_count": 56,
   "id": "2dfb5156-19e7-4fff-aaa1-799e8eddaccb",
   "metadata": {},
   "outputs": [
    {
     "name": "stdout",
     "output_type": "stream",
     "text": [
      "<class 'pandas.core.frame.DataFrame'>\n",
      "Index: 397884 entries, 0 to 541908\n",
      "Data columns (total 9 columns):\n",
      " #   Column       Non-Null Count   Dtype         \n",
      "---  ------       --------------   -----         \n",
      " 0   InvoiceNo    397884 non-null  object        \n",
      " 1   StockCode    397884 non-null  object        \n",
      " 2   Description  397884 non-null  object        \n",
      " 3   Quantity     397884 non-null  int64         \n",
      " 4   InvoiceDate  397884 non-null  datetime64[ns]\n",
      " 5   UnitPrice    397884 non-null  float64       \n",
      " 6   CustomerID   397884 non-null  int64         \n",
      " 7   Country      397884 non-null  object        \n",
      " 8   TotalPrice   397884 non-null  float64       \n",
      "dtypes: datetime64[ns](1), float64(2), int64(2), object(4)\n",
      "memory usage: 30.4+ MB\n"
     ]
    }
   ],
   "source": [
    "df.info()\n",
    "\n"
   ]
  },
  {
   "cell_type": "code",
   "execution_count": null,
   "id": "a9aab1ed-b52e-46f4-b90f-6355443dd293",
   "metadata": {},
   "outputs": [],
   "source": []
  },
  {
   "cell_type": "code",
   "execution_count": 57,
   "id": "178a3a17-c17b-4652-a503-d74aab464399",
   "metadata": {},
   "outputs": [
    {
     "data": {
      "text/html": [
       "<div>\n",
       "<style scoped>\n",
       "    .dataframe tbody tr th:only-of-type {\n",
       "        vertical-align: middle;\n",
       "    }\n",
       "\n",
       "    .dataframe tbody tr th {\n",
       "        vertical-align: top;\n",
       "    }\n",
       "\n",
       "    .dataframe thead th {\n",
       "        text-align: right;\n",
       "    }\n",
       "</style>\n",
       "<table border=\"1\" class=\"dataframe\">\n",
       "  <thead>\n",
       "    <tr style=\"text-align: right;\">\n",
       "      <th></th>\n",
       "      <th>Quantity</th>\n",
       "      <th>InvoiceDate</th>\n",
       "      <th>UnitPrice</th>\n",
       "      <th>CustomerID</th>\n",
       "      <th>TotalPrice</th>\n",
       "    </tr>\n",
       "  </thead>\n",
       "  <tbody>\n",
       "    <tr>\n",
       "      <th>count</th>\n",
       "      <td>397884.000000</td>\n",
       "      <td>397884</td>\n",
       "      <td>397884.000000</td>\n",
       "      <td>397884.000000</td>\n",
       "      <td>397884.000000</td>\n",
       "    </tr>\n",
       "    <tr>\n",
       "      <th>mean</th>\n",
       "      <td>12.988238</td>\n",
       "      <td>2011-07-10 23:41:23.511023360</td>\n",
       "      <td>3.116488</td>\n",
       "      <td>15294.423453</td>\n",
       "      <td>22.397000</td>\n",
       "    </tr>\n",
       "    <tr>\n",
       "      <th>min</th>\n",
       "      <td>1.000000</td>\n",
       "      <td>2010-12-01 08:26:00</td>\n",
       "      <td>0.001000</td>\n",
       "      <td>12346.000000</td>\n",
       "      <td>0.001000</td>\n",
       "    </tr>\n",
       "    <tr>\n",
       "      <th>25%</th>\n",
       "      <td>2.000000</td>\n",
       "      <td>2011-04-07 11:12:00</td>\n",
       "      <td>1.250000</td>\n",
       "      <td>13969.000000</td>\n",
       "      <td>4.680000</td>\n",
       "    </tr>\n",
       "    <tr>\n",
       "      <th>50%</th>\n",
       "      <td>6.000000</td>\n",
       "      <td>2011-07-31 14:39:00</td>\n",
       "      <td>1.950000</td>\n",
       "      <td>15159.000000</td>\n",
       "      <td>11.800000</td>\n",
       "    </tr>\n",
       "    <tr>\n",
       "      <th>75%</th>\n",
       "      <td>12.000000</td>\n",
       "      <td>2011-10-20 14:33:00</td>\n",
       "      <td>3.750000</td>\n",
       "      <td>16795.000000</td>\n",
       "      <td>19.800000</td>\n",
       "    </tr>\n",
       "    <tr>\n",
       "      <th>max</th>\n",
       "      <td>80995.000000</td>\n",
       "      <td>2011-12-09 12:50:00</td>\n",
       "      <td>8142.750000</td>\n",
       "      <td>18287.000000</td>\n",
       "      <td>168469.600000</td>\n",
       "    </tr>\n",
       "    <tr>\n",
       "      <th>std</th>\n",
       "      <td>179.331775</td>\n",
       "      <td>NaN</td>\n",
       "      <td>22.097877</td>\n",
       "      <td>1713.141560</td>\n",
       "      <td>309.071041</td>\n",
       "    </tr>\n",
       "  </tbody>\n",
       "</table>\n",
       "</div>"
      ],
      "text/plain": [
       "            Quantity                    InvoiceDate      UnitPrice  \\\n",
       "count  397884.000000                         397884  397884.000000   \n",
       "mean       12.988238  2011-07-10 23:41:23.511023360       3.116488   \n",
       "min         1.000000            2010-12-01 08:26:00       0.001000   \n",
       "25%         2.000000            2011-04-07 11:12:00       1.250000   \n",
       "50%         6.000000            2011-07-31 14:39:00       1.950000   \n",
       "75%        12.000000            2011-10-20 14:33:00       3.750000   \n",
       "max     80995.000000            2011-12-09 12:50:00    8142.750000   \n",
       "std       179.331775                            NaN      22.097877   \n",
       "\n",
       "          CustomerID     TotalPrice  \n",
       "count  397884.000000  397884.000000  \n",
       "mean    15294.423453      22.397000  \n",
       "min     12346.000000       0.001000  \n",
       "25%     13969.000000       4.680000  \n",
       "50%     15159.000000      11.800000  \n",
       "75%     16795.000000      19.800000  \n",
       "max     18287.000000  168469.600000  \n",
       "std      1713.141560     309.071041  "
      ]
     },
     "execution_count": 57,
     "metadata": {},
     "output_type": "execute_result"
    }
   ],
   "source": [
    "df.describe()"
   ]
  },
  {
   "cell_type": "code",
   "execution_count": 58,
   "id": "206cee15-c569-4b51-a537-72dcf5a9f35f",
   "metadata": {},
   "outputs": [
    {
     "data": {
      "text/plain": [
       "np.int64(0)"
      ]
     },
     "execution_count": 58,
     "metadata": {},
     "output_type": "execute_result"
    }
   ],
   "source": [
    "df[\"InvoiceDate\"].isnull().sum()"
   ]
  },
  {
   "cell_type": "code",
   "execution_count": 59,
   "id": "b24b2526-a9ce-438b-9fc4-06fe1aa83a4c",
   "metadata": {},
   "outputs": [],
   "source": [
    "ref_date = df[\"InvoiceDate\"].max() + pd.Timedelta(days=1)\n"
   ]
  },
  {
   "cell_type": "code",
   "execution_count": 60,
   "id": "3f8da20c-484a-43e3-b5b6-73ec5c7b04a5",
   "metadata": {},
   "outputs": [],
   "source": [
    "rfm = df.groupby(\"CustomerID\").agg({\n",
    "    \"InvoiceDate\": lambda x: (ref_date - x.max()).days,  \n",
    "    \"InvoiceNo\": \"nunique\",                             \n",
    "    \"TotalPrice\": \"sum\"                                 \n",
    "}).reset_index()"
   ]
  },
  {
   "cell_type": "code",
   "execution_count": 61,
   "id": "6e9a8e87-ed9a-4290-89cd-e1f8540eb76b",
   "metadata": {},
   "outputs": [],
   "source": [
    "rfm.columns = [\"CustomerID\", \"Recency\", \"Frequency\", \"Monetary\"]\n"
   ]
  },
  {
   "cell_type": "code",
   "execution_count": 62,
   "id": "d9472d2c-794b-4d02-8850-b58833a76229",
   "metadata": {},
   "outputs": [
    {
     "name": "stdout",
     "output_type": "stream",
     "text": [
      "   CustomerID  Recency  Frequency  Monetary\n",
      "0       12346      326          1  77183.60\n",
      "1       12347        2          7   4310.00\n",
      "2       12348       75          4   1797.24\n",
      "3       12349       19          1   1757.55\n",
      "4       12350      310          1    334.40\n"
     ]
    }
   ],
   "source": [
    "print(rfm.head())\n"
   ]
  },
  {
   "cell_type": "code",
   "execution_count": 63,
   "id": "d20b2ea2-543f-468b-9506-15605b9bec32",
   "metadata": {},
   "outputs": [],
   "source": [
    "rfm[\"R_Score\"] = pd.qcut(rfm[\"Recency\"], 4, labels=[4,3,2,1])\n"
   ]
  },
  {
   "cell_type": "code",
   "execution_count": 64,
   "id": "506c878f-00e6-4c01-8a5f-1ba1b100cb63",
   "metadata": {},
   "outputs": [],
   "source": [
    "rfm[\"F_Score\"] = pd.qcut(rfm[\"Frequency\"].rank(method=\"first\"), 4, labels=[1,2,3,4])\n"
   ]
  },
  {
   "cell_type": "code",
   "execution_count": 65,
   "id": "e65bb360-4bcd-4c22-bb4e-8a584ee4f107",
   "metadata": {},
   "outputs": [],
   "source": [
    "rfm[\"M_Score\"] = pd.qcut(rfm[\"Monetary\"], 4, labels=[1,2,3,4])\n"
   ]
  },
  {
   "cell_type": "code",
   "execution_count": 66,
   "id": "baf8b1c5-c60d-4f39-b1dc-366005a9423e",
   "metadata": {},
   "outputs": [],
   "source": [
    "rfm[\"RFM_Score\"] = rfm[\"R_Score\"].astype(str) + rfm[\"F_Score\"].astype(str) + rfm[\"M_Score\"].astype(str)\n"
   ]
  },
  {
   "cell_type": "code",
   "execution_count": 67,
   "id": "c7a6f3b2-567c-42f6-ad26-2ab2a1b748e5",
   "metadata": {},
   "outputs": [
    {
     "name": "stdout",
     "output_type": "stream",
     "text": [
      "   CustomerID  Recency  Frequency  Monetary R_Score F_Score M_Score RFM_Score\n",
      "0       12346      326          1  77183.60       1       1       4       114\n",
      "1       12347        2          7   4310.00       4       4       4       444\n",
      "2       12348       75          4   1797.24       2       3       4       234\n",
      "3       12349       19          1   1757.55       3       1       4       314\n",
      "4       12350      310          1    334.40       1       1       2       112\n"
     ]
    }
   ],
   "source": [
    "print(rfm.head())\n"
   ]
  },
  {
   "cell_type": "code",
   "execution_count": 68,
   "id": "78618d91-a879-4468-b9f4-1f694e877ae1",
   "metadata": {},
   "outputs": [],
   "source": [
    "def segment(rfm_score):\n",
    "    if rfm_score.startswith(\"4\"):\n",
    "        return \"Champions\"\n",
    "    elif rfm_score.startswith(\"3\"):\n",
    "        return \"Loyal Customers\"\n",
    "    elif rfm_score.startswith(\"2\"):\n",
    "        return \"At Risk\"\n",
    "    else:\n",
    "        return \"Lost Customers\""
   ]
  },
  {
   "cell_type": "code",
   "execution_count": 69,
   "id": "91b861e2-83c0-4133-8af1-6ed7e50a53c9",
   "metadata": {},
   "outputs": [],
   "source": [
    "rfm[\"Segment\"] = rfm[\"RFM_Score\"].apply(segment)\n"
   ]
  },
  {
   "cell_type": "code",
   "execution_count": 70,
   "id": "6b6ac972-eb3e-40c6-9939-af51cfd8fab1",
   "metadata": {},
   "outputs": [
    {
     "name": "stdout",
     "output_type": "stream",
     "text": [
      "Segment\n",
      "Champions          1125\n",
      "Lost Customers     1084\n",
      "At Risk            1066\n",
      "Loyal Customers    1063\n",
      "Name: count, dtype: int64\n"
     ]
    }
   ],
   "source": [
    "print(rfm[\"Segment\"].value_counts())\n"
   ]
  },
  {
   "cell_type": "code",
   "execution_count": 71,
   "id": "c4742ffa-d442-4fd9-b285-a12a7a97b06d",
   "metadata": {},
   "outputs": [],
   "source": [
    "import seaborn as sns\n",
    "import matplotlib.pyplot as plt"
   ]
  },
  {
   "cell_type": "code",
   "execution_count": 72,
   "id": "4d74275b-feed-4fa3-b282-0dadfa2f4156",
   "metadata": {},
   "outputs": [
    {
     "data": {
      "image/png": "[encoded data removed]",
      "text/plain": [
       "<Figure size 640x480 with 1 Axes>"
      ]
     },
     "metadata": {},
     "output_type": "display_data"
    }
   ],
   "source": [
    "sns.countplot(x=\"Segment\", data=rfm, order=rfm[\"Segment\"].value_counts().index)\n",
    "plt.title(\"Customer Segments by RFM\")\n",
    "plt.show()"
   ]
  },
  {
   "cell_type": "code",
   "execution_count": 73,
   "id": "a70a33ce-63e6-41ca-8956-e982b47606d0",
   "metadata": {},
   "outputs": [
    {
     "data": {
      "image/png": "[encoded data removed]",
      "text/plain": [
       "<Figure size 640x480 with 2 Axes>"
      ]
     },
     "metadata": {},
     "output_type": "display_data"
    }
   ],
   "source": [
    "rfm_grouped = rfm.groupby(\"Segment\")[[\"Recency\",\"Frequency\",\"Monetary\"]].mean().reset_index()\n",
    "sns.heatmap(rfm_grouped.set_index(\"Segment\"), annot=True, fmt=\".1f\", cmap=\"YlGnBu\")\n",
    "plt.title(\"Average RFM Values by Segment\")\n",
    "plt.show()"
   ]
  },
  {
   "cell_type": "markdown",
   "id": "fd2f0951-4c1d-4cd0-8c21-c897a98053fa",
   "metadata": {},
   "source": [
    "## Marketing Ideas \n",
    "\n",
    "**Champions** : Reward them with loyalty programs, exclusive offers, and early product launches.  \n",
    "\n",
    "**Loyal Customers** : Encourage referrals, give them early access to sales, and upsell/cross-sell.  \n",
    "\n",
    "**Potential Loyalist** : Offer discounts for second purchase, nurture them into loyal customers.  \n",
    "\n",
    "**New Customers** : Welcome them with onboarding emails, small discounts, and product recommendations.  \n",
    "\n",
    "**At Risk** : Send win-back campaigns, discounts, and reminders about what they loved before.  \n",
    "\n",
    "**Lost Customers** : Try re-engagement campaigns or surveys to understand why they left.  \n",
    "\n"
   ]
  },
  {
   "cell_type": "code",
   "execution_count": null,
   "id": "fbddbc1a-8278-46b9-b3da-70134376ce5d",
   "metadata": {},
   "outputs": [],
   "source": []
  }
 ],
 "metadata": {
  "kernelspec": {
   "display_name": "Python 3 (ipykernel)",
   "language": "python",
   "name": "python3"
  },
  "language_info": {
   "codemirror_mode": {
    "name": "ipython",
    "version": 3
   },
   "file_extension": ".py",
   "mimetype": "text/x-python",
   "name": "python",
   "nbconvert_exporter": "python",
   "pygments_lexer": "ipython3",
   "version": "3.10.16"
  }
 },
 "nbformat": 4,
 "nbformat_minor": 5
}
